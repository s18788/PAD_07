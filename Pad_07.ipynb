{
  "nbformat": 4,
  "nbformat_minor": 0,
  "metadata": {
    "colab": {
      "provenance": []
    },
    "kernelspec": {
      "name": "python3",
      "display_name": "Python 3"
    },
    "language_info": {
      "name": "python"
    }
  },
  "cells": [
    {
      "cell_type": "markdown",
      "source": [
        "Zadanie 1 => Przeprowadź test T studenta na danych w pliku wyniki.csv"
      ],
      "metadata": {
        "id": "R_srb-MvA3Sh"
      }
    },
    {
      "cell_type": "markdown",
      "source": [
        "* H0 => nie ma istotnej różnicy w Ocenie końcowej pomiędzy uczniami i uczennicami\n",
        "* Ha => istnieje istotna różnica (bez wskazania kierunku) w Ocenie końcowej pomiędzy uczniami i uczennicami.\n",
        "* alpha = 0.05\n"
      ],
      "metadata": {
        "id": "D7PDCZpcCCuM"
      }
    },
    {
      "cell_type": "code",
      "execution_count": null,
      "metadata": {
        "colab": {
          "base_uri": "https://localhost:8080/"
        },
        "id": "vH7b0nkEA12-",
        "outputId": "dff098c7-fb8a-4900-86d3-5385a5d5b9d2"
      },
      "outputs": [
        {
          "output_type": "stream",
          "name": "stdout",
          "text": [
            "Failed to reject H0. H0 is correct\n"
          ]
        }
      ],
      "source": [
        "import pandas as pd\n",
        "import numpy as np\n",
        "import scipy.stats as stats\n",
        "\n",
        "\n",
        "df = pd.read_csv('wyniki.csv');\n",
        "\n",
        "alpha = 0.05\n",
        "\n",
        "maleDf = df[ df['plec'] == 'M' ]\n",
        "maleDf = maleDf['ocena_koncowa']\n",
        "\n",
        "femaleDf = df[ df['plec'] =='F' ]\n",
        "femaleDf = femaleDf['ocena_koncowa']\n",
        "\n",
        "result = stats.ttest_ind(a=maleDf, b=femaleDf, equal_var=True)\n",
        "\n",
        "if result.pvalue > alpha:\n",
        "    print('Failed to reject H0. H0 is correct')\n",
        "else:\n",
        "    print('H0 rejected. Ha is correct')\n"
      ]
    },
    {
      "cell_type": "markdown",
      "source": [
        "Zadanie 2\n",
        "\n",
        "Korzystając z danych w pliku ZyskiFirmyX.csv stwórz model regresji liniowej i biblioteki statmodels:\n",
        "\n",
        "\n",
        "* Wyświetl wykres pokazujący zyski w czasie. \n",
        "* Czy da się zaobserwować trend? Jaki?\n",
        "* **Wyświetl** podsumowanie modelu.\n"
      ],
      "metadata": {
        "id": "2J7Ja1eTTFDH"
      }
    },
    {
      "cell_type": "code",
      "source": [
        "import pandas as pd\n",
        "import numpy as np\n",
        "import statsmodels.api as sm\n",
        "import matplotlib.pyplot as plt\n",
        "\n",
        "zyski = pd.read_csv('ZyskiFirmyX.csv')\n",
        "\n",
        "x = zyski['Rok']\n",
        "y = zyski['Zysk']\n",
        "\n",
        "x = sm.add_constant(x)\n",
        "\n",
        "model_zyskow = sm.OLS(y, x).fit()\n",
        "\n",
        "plt.rc(\"figure\", figsize=(20, 8))\n",
        "fig = sm.graphics.plot_fit(model_zyskow,'Rok')\n",
        "\n",
        "podsumowanie_modelu = model_zyskow.summary()\n",
        "print(podsumowanie_modelu)\n",
        "\n",
        "## trend stały\n"
      ],
      "metadata": {
        "id": "9LrTzylUTEVo"
      },
      "execution_count": null,
      "outputs": []
    },
    {
      "cell_type": "markdown",
      "source": [
        "Zadanie 3"
      ],
      "metadata": {
        "id": "6y0Ei4_cpyJc"
      }
    },
    {
      "cell_type": "code",
      "source": [
        "ss = pd.read_csv('spendingscores.csv')\n",
        "\n",
        "x = ss[['Age','AnnualIncome']]\n",
        "y = ss['SpendingScore']\n",
        "\n",
        "x = sm.add_constant(x)\n",
        "\n",
        "model = sm.OLS(y, x).fit()\n",
        "\n",
        "model_summary = model.summary()\n",
        "\n",
        "print(f\"Age pvalue: {model.pvalues.loc['Age']}\")\n",
        "print(f\"AnnualIncome pvalue: {model.pvalues.loc['AnnualIncome']}\")\n",
        "print()\n",
        "print(f\"Age std: {model.bse.loc['Age']}\")\n",
        "print(f\"AnnualIncome std: {model.bse.loc['AnnualIncome']}\")\n",
        "print()\n",
        "print(f\"Age coef: {model.params.loc['Age']}\")\n",
        "print(f\"AnnualIncome coef: {model.params.loc['AnnualIncome']}\")\n",
        "print()\n",
        "print(model_summary)"
      ],
      "metadata": {
        "colab": {
          "base_uri": "https://localhost:8080/"
        },
        "id": "jPRFwQAep0EF",
        "outputId": "62ff17f1-ddec-4ed9-f917-da2af938c047"
      },
      "execution_count": 52,
      "outputs": [
        {
          "output_type": "stream",
          "name": "stdout",
          "text": [
            "Age pvalue: 2.401654399975258e-06\n",
            "AnnualIncome pvalue: 0.9308872660316045\n",
            "\n",
            "Age std: 0.12446544154528587\n",
            "AnnualIncome std: 0.06619749185728142\n",
            "\n",
            "Age coef: -0.6047872578754504\n",
            "AnnualIncome coef: 0.005748559223864767\n",
            "\n",
            "                            OLS Regression Results                            \n",
            "==============================================================================\n",
            "Dep. Variable:          SpendingScore   R-squared:                       0.107\n",
            "Model:                            OLS   Adj. R-squared:                  0.098\n",
            "Method:                 Least Squares   F-statistic:                     11.82\n",
            "Date:                Sun, 29 Jan 2023   Prob (F-statistic):           1.42e-05\n",
            "Time:                        22:49:56   Log-Likelihood:                -922.21\n",
            "No. Observations:                 200   AIC:                             1850.\n",
            "Df Residuals:                     197   BIC:                             1860.\n",
            "Df Model:                           2                                         \n",
            "Covariance Type:            nonrobust                                         \n",
            "================================================================================\n",
            "                   coef    std err          t      P>|t|      [0.025      0.975]\n",
            "--------------------------------------------------------------------------------\n",
            "const           73.3479      6.553     11.193      0.000      60.425      86.271\n",
            "Age             -0.6048      0.124     -4.859      0.000      -0.850      -0.359\n",
            "AnnualIncome     0.0057      0.066      0.087      0.931      -0.125       0.136\n",
            "==============================================================================\n",
            "Omnibus:                       10.159   Durbin-Watson:                   3.452\n",
            "Prob(Omnibus):                  0.006   Jarque-Bera (JB):                6.026\n",
            "Skew:                          -0.254   Prob(JB):                       0.0491\n",
            "Kurtosis:                       2.318   Cond. No.                         286.\n",
            "==============================================================================\n",
            "\n",
            "Notes:\n",
            "[1] Standard Errors assume that the covariance matrix of the errors is correctly specified.\n"
          ]
        },
        {
          "output_type": "stream",
          "name": "stderr",
          "text": [
            "/usr/local/lib/python3.8/dist-packages/statsmodels/tsa/tsatools.py:142: FutureWarning: In a future version of pandas all arguments of concat except for the argument 'objs' will be keyword-only\n",
            "  x = pd.concat(x[::order], 1)\n"
          ]
        }
      ]
    },
    {
      "cell_type": "markdown",
      "source": [],
      "metadata": {
        "id": "j-I7czdiTP2o"
      }
    }
  ]
}